{
 "cells": [
  {
   "cell_type": "code",
   "execution_count": 38,
   "metadata": {},
   "outputs": [
    {
     "name": "stdout",
     "output_type": "stream",
     "text": [
      "Unicode database version: 14.0.0\n",
      "Latin : 1038 characters\n",
      "Cyrillic : 315 characters\n",
      "Devanagari : 128 characters\n"
     ]
    }
   ],
   "source": [
    "import unicodedata\n",
    "print(\"Unicode database version:\", unicodedata.unidata_version)\n",
    "\n",
    "counts = {\"latin\": 0, \"cyrillic\": 0, \"devanagari\": 0}\n",
    "\n",
    "for i in range(1, 10000):\n",
    "    try:\n",
    "        n = unicodedata.name(chr(i)).lower()\n",
    "    except:\n",
    "        continue\n",
    "    for script in counts:\n",
    "        if script in n:\n",
    "            counts[script] += 1\n",
    "for script in counts:\n",
    "    print(script.capitalize(), \":\", counts[script], \"characters\")"
   ]
  },
  {
   "cell_type": "code",
   "execution_count": null,
   "metadata": {},
   "outputs": [],
   "source": []
  }
 ],
 "metadata": {
  "kernelspec": {
   "display_name": "data",
   "language": "python",
   "name": "python3"
  },
  "language_info": {
   "codemirror_mode": {
    "name": "ipython",
    "version": 3
   },
   "file_extension": ".py",
   "mimetype": "text/x-python",
   "name": "python",
   "nbconvert_exporter": "python",
   "pygments_lexer": "ipython3",
   "version": "3.11.6"
  }
 },
 "nbformat": 4,
 "nbformat_minor": 2
}
